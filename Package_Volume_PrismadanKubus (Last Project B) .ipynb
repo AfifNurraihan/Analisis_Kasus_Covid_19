{
  "nbformat": 4,
  "nbformat_minor": 0,
  "metadata": {
    "colab": {
      "name": "Package_Volume_PrismadanKubus.ipynb",
      "provenance": [],
      "collapsed_sections": [],
      "authorship_tag": "ABX9TyPS5vXsIUa3nRCZSHJq4WnP",
      "include_colab_link": true
    },
    "kernelspec": {
      "name": "python3",
      "display_name": "Python 3"
    }
  },
  "cells": [
    {
      "cell_type": "markdown",
      "metadata": {
        "id": "view-in-github",
        "colab_type": "text"
      },
      "source": [
        "<a href=\"https://colab.research.google.com/github/AfifNurraihan/Last_Project_A_and_C/blob/main/Package_Volume_PrismadanKubus%20(Last%20Project%20B)%20.ipynb\" target=\"_parent\"><img src=\"https://colab.research.google.com/assets/colab-badge.svg\" alt=\"Open In Colab\"/></a>"
      ]
    },
    {
      "cell_type": "code",
      "metadata": {
        "colab": {
          "base_uri": "https://localhost:8080/"
        },
        "id": "8C3q0-Ye-2ya",
        "outputId": "c7b4e5df-6a83-462f-bf67-f2b4de905595"
      },
      "source": [
        "import volumebalokprisma as vbp\r\n",
        "vbp.volume_balok_prisma(10,6,0.5,4)"
      ],
      "execution_count": null,
      "outputs": [
        {
          "output_type": "execute_result",
          "data": {
            "text/plain": [
              "150.0"
            ]
          },
          "metadata": {
            "tags": []
          },
          "execution_count": 2
        }
      ]
    }
  ]
}