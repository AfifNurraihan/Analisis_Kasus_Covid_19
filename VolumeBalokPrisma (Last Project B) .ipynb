{
  "nbformat": 4,
  "nbformat_minor": 0,
  "metadata": {
    "colab": {
      "name": "VolumeBalokPrisma.ipynb",
      "provenance": [],
      "authorship_tag": "ABX9TyP49dcFTLGWIoUg8AQnLGND",
      "include_colab_link": true
    },
    "kernelspec": {
      "name": "python3",
      "display_name": "Python 3"
    }
  },
  "cells": [
    {
      "cell_type": "markdown",
      "metadata": {
        "id": "view-in-github",
        "colab_type": "text"
      },
      "source": [
        "<a href=\"https://colab.research.google.com/github/AfifNurraihan/Last_Project_A_and_C/blob/main/VolumeBalokPrisma%20(Last%20Project%20B)%20.ipynb\" target=\"_parent\"><img src=\"https://colab.research.google.com/assets/colab-badge.svg\" alt=\"Open In Colab\"/></a>"
      ]
    },
    {
      "cell_type": "code",
      "metadata": {
        "id": "yYbv1uxFSU5p"
      },
      "source": [
        "def volume_balok(a,b,c):\r\n",
        "  A = float(a)\r\n",
        "  B = float(b)\r\n",
        "  C = float(c)\r\n",
        "  Volume = A*B*C\r\n",
        "  return Volume\r\n",
        "def volume_prisma(a,b,t):\r\n",
        "  A = float(a)\r\n",
        "  B = float(b)\r\n",
        "  T = float(t)\r\n",
        "  Volume = (A*B*T)/2\r\n",
        "  return Volume\r\n",
        "  \r\n",
        "def volume_balok_prisma(a,b,c,t):\r\n",
        "  v1=volume_balok(a,b,c)\r\n",
        "  v2=volume_prisma(a,b,t)\r\n",
        "  Volume=v1+v2\r\n",
        "  return Volume"
      ],
      "execution_count": null,
      "outputs": []
    }
  ]
}